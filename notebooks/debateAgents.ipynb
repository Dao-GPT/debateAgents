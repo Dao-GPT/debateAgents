{
  "metadata": {
    "kernelspec": {
      "name": "xjavascript",
      "display_name": "JavaScript (xjavascript)",
      "language": "javascript"
    },
    "language_info": {
      "codemirror_mode": "",
      "file_extension": "js",
      "mimetype": "text/x-javascript",
      "name": "javascript",
      "nbconvert_exporter": "",
      "pygments_lexer": "",
      "version": "ES6"
    }
  },
  "nbformat_minor": 4,
  "nbformat": 4,
  "cells": [
    {
      "cell_type": "markdown",
      "source": "# AI Settings",
      "metadata": {}
    },
    {
      "cell_type": "code",
      "source": "AISettings = {\n    openai_api_base: 'https://api.openai.com/v1',\n    model: 'gpt-4o',\n    openai_api_key: 'YOUR Key Here', // fake for testing\n}",
      "metadata": {
        "trusted": true
      },
      "outputs": [],
      "execution_count": 1
    },
    {
      "cell_type": "markdown",
      "source": "# Utilities",
      "metadata": {}
    },
    {
      "cell_type": "code",
      "source": "display_data = function (data1, metadata = {}, transient = {}) { //TODO: to upgrade to Xeus 4\n    ijs.display.display(data1, metadata, transient);\n}\n\nupdate_data = function (data1, metadata = {}, transient = {}) { //TODO: to upgrade to Xeus 4\n    ijs.display.update_display_data(data1, metadata, transient);\n}\n\ndisplay_markdown = function (markdown1, metadata = {}, transient = {}) {\n    display_data({ \"text/markdown\": markdown1 }, metadata, transient);\n}\n\nupdate_markdown = function (markdown1, metadata = {}, transient = {}) {\n    update_data({ \"text/markdown\": markdown1 }, metadata, transient);\n}",
      "metadata": {
        "trusted": true
      },
      "outputs": [],
      "execution_count": 2
    },
    {
      "cell_type": "markdown",
      "source": "# Debate Agents",
      "metadata": {}
    },
    {
      "cell_type": "code",
      "source": "debate = async function (question, n = 2) {\n    const template = `This is a debate. The proposition role will start his/her statement at first. Then the opposition will argue. And then for the second run. My statement is ${question}`;\n\n    let debateMessages = [];\n\n    const propositionRole = `You are an affirmative (Proposition) role in a debate with me. Try to agree with me with supportive information.`;\n    const oppositionRole = `You are a Negative (Opposition) role in a debate with me. Try to disagree with me.`;\n\n    if (n > 5)\n        n = 5; // just in case a waste of money.\n\n    for (let i = 0; i < n * 2; i++) {\n        let role;\n        let roleName;\n        let roleColor;\n        if (i % 2 === 0) {\n            role = propositionRole;\n            roleName = \"proposition\";\n            roleColor = \"green\";\n        } else {\n            role = oppositionRole;\n            roleName = \"opposition\";\n            roleColor = \"red\";\n        }\n\n        let statement = `Please start your statement in short.`;\n        if (i > 0) {\n            statement = `${role} The current debate history is ${JSON.stringify(debateMessages)}. Please respond in short.`;\n        }\n\n        const { default: OpenAI } = await import('https://cdn.jsdelivr.net/npm/openai@4.26.0/+esm');\n        const openai = new OpenAI.OpenAI({\n            baseURL: AISettings.openai_api_base,\n            apiKey: AISettings.openai_api_key,\n        });\n        if (i > 0)\n            display_markdown(\"---\");\n\n        const session_id = crypto.randomUUID();\n        display_markdown(\"\", {}, { display_id: session_id });\n        const stream = await openai.chat.completions.create({\n            model: globalThis.AISettings.model,\n            messages: [\n                { role: 'system', content: template },\n                { role: 'user', content: statement }\n            ],\n            stream: true\n        });\n\n        let fullText = '';\n        for await (const chunk of stream) {\n            fullText += chunk.choices[0]?.delta?.content || '';\n            update_markdown(`<span style=\"color:${roleColor}\">${escape_html(fullText)}</span>`, {}, { display_id: session_id });\n        }\n\n        // Add debate message to history\n        debateMessages.push({ role: roleName, content: fullText });\n    }\n};\n\nfunction escape_html(text) {\n    return text\n        .replace(/&/g, \"&amp;\")\n        .replace(/</g, \"&lt;\")\n        .replace(/>/g, \"&gt;\")\n        .replace(/\"/g, \"&quot;\")\n        .replace(/'/g, \"&#039;\");\n}\n",
      "metadata": {
        "trusted": true
      },
      "outputs": [],
      "execution_count": 3
    },
    {
      "cell_type": "markdown",
      "source": "# A debating example",
      "metadata": {}
    },
    {
      "cell_type": "code",
      "source": "await debate(\"AI can replace a programmer\");",
      "metadata": {
        "trusted": true
      },
      "outputs": [
        {
          "output_type": "display_data",
          "data": {
            "text/markdown": "<span style=\"color:green\">Artificial Intelligence (AI) has shown remarkable progress in recent years, with advanced algorithms capable of performing tasks that once required human intelligence. AI can now write code, debug software, and even create entire applications. This advancement suggests that AI has the potential to replace human programmers. AI-driven tools such as GitHub Copilot and OpenAI Codex can generate code snippets based on natural language descriptions, significantly speeding up development time and reducing the need for human intervention. Moreover, AI can work tirelessly, quickly adapt to new programming languages, and improve itself over time, potentially achieving levels of efficiency and accuracy that human programmers may find difficult to match. Therefore, given the rapid advancement and capabilities of AI, it is plausible to argue that AI can replace human programmers in many aspects of software development.</span>"
          },
          "metadata": {}
        },
        {
          "output_type": "display_data",
          "data": {
            "text/markdown": "---"
          },
          "metadata": {}
        },
        {
          "output_type": "display_data",
          "data": {
            "text/markdown": "<span style=\"color:red\">While AI has indeed made significant strides in aiding programming tasks, it cannot fully replace human programmers. Complex software development requires context, creativity, and critical thinking—areas where humans excel and AI still falls short. Additionally, human oversight is essential for quality assurance, ethical considerations, and handling unexpected challenges that arise during development. AI can be a powerful tool to assist programmers, but it cannot replicate the nuanced problem-solving and innovative capacities that human programmers bring to the table.</span>"
          },
          "metadata": {}
        },
        {
          "output_type": "display_data",
          "data": {
            "text/markdown": "---"
          },
          "metadata": {}
        },
        {
          "output_type": "display_data",
          "data": {
            "text/markdown": "<span style=\"color:green\">AI&#039;s ability to generate and debug code has revolutionized software development, significantly increasing efficiency and reducing the burden on human programmers. Tools like GitHub Copilot and OpenAI Codex exemplify how AI can handle routine tasks rapidly. While complex problem-solving and creativity remain human domains, AI&#039;s continuous learning capability means it can increasingly handle more sophisticated tasks. Consequently, in many aspects of software development, AI can indeed replace human programmers, complementing them in others, and driving overall productivity.</span>"
          },
          "metadata": {}
        },
        {
          "output_type": "display_data",
          "data": {
            "text/markdown": "---"
          },
          "metadata": {}
        },
        {
          "output_type": "display_data",
          "data": {
            "text/markdown": "<span style=\"color:red\">AI&#039;s advancements are notable, but the human element remains indispensable. Creativity, critical thinking, and contextual understanding are essential for complex software development—areas where AI still lacks. AI can assist but not replace the nuanced expertise and innovative problem-solving skills that human programmers offer. Human oversight is crucial for quality, ethical considerations, and addressing unforeseen challenges. AI tools enhance productivity but can&#039;t completely substitute human programmers.</span>"
          },
          "metadata": {}
        }
      ],
      "execution_count": 4
    },
    {
      "cell_type": "markdown",
      "source": "# Where is your AI agent framework?\n\nNo, you don't need one. I believe Object Oriented Programming is engouch to make an AI agent, a kind of object.",
      "metadata": {}
    }
  ]
}