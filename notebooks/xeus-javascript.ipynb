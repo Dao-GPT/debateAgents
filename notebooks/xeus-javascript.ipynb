{
 "cells": [
  {
   "cell_type": "markdown",
   "metadata": {},
   "source": [
    "<center>\n",
    "    <h1>javascript kernel based on xeus</h1>\n",
    "</center>"
   ]
  },
  {
   "cell_type": "markdown",
   "metadata": {},
   "source": [
    "# Simple code execution"
   ]
  },
  {
   "cell_type": "code",
   "execution_count": null,
   "metadata": {},
   "outputs": [],
   "source": [
    "let a = 1 + 1;\n",
    "let b = a * 2;\n",
    "console.log(b);"
   ]
  },
  {
   "cell_type": "markdown",
   "metadata": {},
   "source": [
    "# display stuff"
   ]
  },
  {
   "cell_type": "code",
   "execution_count": null,
   "metadata": {
    "vscode": {
     "languageId": "plaintext"
    }
   },
   "outputs": [],
   "source": [
    "ijs.display.json({fuu:\"baR\"})"
   ]
  },
  {
   "cell_type": "markdown",
   "metadata": {},
   "source": [
    "# run async code"
   ]
  },
  {
   "cell_type": "markdown",
   "metadata": {},
   "source": [
    "await new Promise(r => setTimeout(r, 2000));"
   ]
  },
  {
   "cell_type": "markdown",
   "metadata": {},
   "source": [
    "# auto completion\n",
    "press tab"
   ]
  },
  {
   "cell_type": "code",
   "execution_count": null,
   "metadata": {
    "vscode": {
     "languageId": "plaintext"
    }
   },
   "outputs": [],
   "source": [
    "ij"
   ]
  }
 ],
 "metadata": {
  "kernelspec": {
   "display_name": "Python ES6 (xjavascript)",
   "language": "text/x-javascript",
   "name": "xjavascript"
  },
  "language_info": {
   "file_extension": "js",
   "mimetype": "text/x-javascript",
   "name": "xjavascript",
   "version": "ES6"
  }
 },
 "nbformat": 4,
 "nbformat_minor": 4
}
