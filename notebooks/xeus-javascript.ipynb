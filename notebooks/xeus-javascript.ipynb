{
 "cells": [
  {
   "cell_type": "markdown",
   "metadata": {},
   "source": [
    "<center>\n",
    "    <h1>javascript kernel based on xeus</h1>\n",
    "</center>"
   ]
  },
  {
   "cell_type": "markdown",
   "metadata": {},
   "source": [
    "# Simple code execution"
   ]
  },
  {
   "cell_type": "code",
   "execution_count": null,
   "metadata": {},
   "outputs": [],
   "source": [
    "a = 3"
   ]
  }
 ],
 "metadata": {
  "kernelspec": {
   "display_name": "Python ES6 (xjavascript)",
   "language": "text/x-javascript",
   "name": "xjavascript"
  },
  "language_info": {
   "file_extension": "js",
   "mimetype": "text/x-javascript",
   "name": "xjavascript",
   "version": "ES6"
  }
 },
 "nbformat": 4,
 "nbformat_minor": 4
}
